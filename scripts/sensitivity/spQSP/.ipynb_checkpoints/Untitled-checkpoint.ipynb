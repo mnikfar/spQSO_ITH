{
 "cells": [
  {
   "cell_type": "code",
   "execution_count": 4,
   "id": "9c6e73ec",
   "metadata": {},
   "outputs": [],
   "source": [
    "# -*- coding: utf-8 -*-\n",
    "\"\"\"\n",
    "Created on Wed Feb 26 00:37:40 2020\n",
    "\n",
    "Analyzing PRCC results\n",
    "\n",
    "@author: Mehdi\n",
    "\"\"\"\n",
    "from pathlib import Path\n",
    "import sys\n",
    "import importlib\n",
    "import matplotlib.pyplot as plt\n",
    "\n",
    "# import PRCC function\n",
    "import PRCC as prcc\n",
    "import QSP_analysis as qa\n",
    "\n",
    "#%%\n",
    "import numpy as np\n",
    "from pyDOE2 import lhs\n",
    "# Reading data\n",
    "num_samples = 20\n",
    "num_param = 15\n",
    "num_readout = 9\n",
    "\n",
    "header, data = qa.read_csv('3.csv')\n",
    "param_names = header[1:num_param+1]\n",
    "read_names = header[num_param+1:]\n",
    "lhd = data[:,1:num_param+1].astype(float)\n",
    "readout = data[:,num_param+1:].astype(float)"
   ]
  },
  {
   "cell_type": "code",
   "execution_count": 5,
   "id": "c31bebf5",
   "metadata": {},
   "outputs": [
    {
     "data": {
      "text/plain": [
       "['IFNg_PDL1_half',\n",
       " 'IFNg_PDL1_n',\n",
       " 'PDL1_halflife',\n",
       " 'Tcell_halflife',\n",
       " 'Tcell_moveProb',\n",
       " 'cscKillFactor',\n",
       " 'vascular_core',\n",
       " 'vascular_margine',\n",
       " 'vascular_stromal',\n",
       " 'Tumor_growth',\n",
       " 'cancer_cell_baseline_death',\n",
       " 'k_C_death_by_T',\n",
       " 'cl_Nivo',\n",
       " 'Teff_PD1_tot',\n",
       " 'C1_PDL1_tot']"
      ]
     },
     "execution_count": 5,
     "metadata": {},
     "output_type": "execute_result"
    }
   ],
   "source": [
    "param_names"
   ]
  },
  {
   "cell_type": "code",
   "execution_count": 6,
   "id": "1e6d126a",
   "metadata": {},
   "outputs": [
    {
     "data": {
      "text/plain": [
       "['Kd_PD1_PDL1',\n",
       " 'K_C1_PDLX_Teff_PD1',\n",
       " 'Kd_PD1_PDL2',\n",
       " 'mutatinoal burden',\n",
       " 'Antigen',\n",
       " 'k_Teff_transmig',\n",
       " 'k_Treg_transmig',\n",
       " 'k_Teff_inhibBy_Treg',\n",
       " 'Tumor_diameter_change']"
      ]
     },
     "execution_count": 6,
     "metadata": {},
     "output_type": "execute_result"
    }
   ],
   "source": [
    "read_names"
   ]
  },
  {
   "cell_type": "code",
   "execution_count": 7,
   "id": "02529a15",
   "metadata": {},
   "outputs": [
    {
     "data": {
      "text/plain": [
       "(20, 15)"
      ]
     },
     "execution_count": 7,
     "metadata": {},
     "output_type": "execute_result"
    }
   ],
   "source": [
    "lhd.shape"
   ]
  },
  {
   "cell_type": "code",
   "execution_count": 8,
   "id": "168cb8d0",
   "metadata": {},
   "outputs": [
    {
     "data": {
      "text/plain": [
       "(20, 9)"
      ]
     },
     "execution_count": 8,
     "metadata": {},
     "output_type": "execute_result"
    }
   ],
   "source": [
    "readout.shape"
   ]
  },
  {
   "cell_type": "code",
   "execution_count": 9,
   "id": "30afcb03",
   "metadata": {},
   "outputs": [],
   "source": [
    "Rho, Pval, Sig, Pval_correct = prcc.partial_corr(lhd, readout, 1e-14,Type = 'Spearman', MTC='Bonferroni')\n"
   ]
  },
  {
   "cell_type": "code",
   "execution_count": 10,
   "id": "2de39889",
   "metadata": {},
   "outputs": [],
   "source": [
    "sig_txt = np.zeros((num_param, num_readout), dtype='U8')\n",
    "sig_txt[Pval_correct<5e-2] = '*'\n",
    "sig_txt[Pval_correct<1e-6] = '**'\n",
    "sig_txt[Pval_correct<1e-9] = '***'"
   ]
  },
  {
   "cell_type": "code",
   "execution_count": 11,
   "id": "fe042768",
   "metadata": {},
   "outputs": [],
   "source": [
    "param_group = [\"beige\"]*10 + [\"khaki\"]*(num_param-10)\n"
   ]
  },
  {
   "cell_type": "code",
   "execution_count": 12,
   "id": "f7e36eae",
   "metadata": {},
   "outputs": [
    {
     "data": {
      "text/plain": [
       "['beige',\n",
       " 'beige',\n",
       " 'beige',\n",
       " 'beige',\n",
       " 'beige',\n",
       " 'beige',\n",
       " 'beige',\n",
       " 'beige',\n",
       " 'beige',\n",
       " 'beige',\n",
       " 'khaki',\n",
       " 'khaki',\n",
       " 'khaki',\n",
       " 'khaki',\n",
       " 'khaki']"
      ]
     },
     "execution_count": 12,
     "metadata": {},
     "output_type": "execute_result"
    }
   ],
   "source": [
    "param_group"
   ]
  },
  {
   "cell_type": "code",
   "execution_count": 13,
   "id": "b5ce17cb",
   "metadata": {},
   "outputs": [],
   "source": [
    "readout_group = [\"#B4B4FF\"]*2+ [\"mediumslateblue\"]*(num_readout-2)\n"
   ]
  },
  {
   "cell_type": "code",
   "execution_count": 14,
   "id": "3c9c6f0a",
   "metadata": {},
   "outputs": [
    {
     "data": {
      "text/plain": [
       "['#B4B4FF',\n",
       " '#B4B4FF',\n",
       " 'mediumslateblue',\n",
       " 'mediumslateblue',\n",
       " 'mediumslateblue',\n",
       " 'mediumslateblue',\n",
       " 'mediumslateblue',\n",
       " 'mediumslateblue',\n",
       " 'mediumslateblue']"
      ]
     },
     "execution_count": 14,
     "metadata": {},
     "output_type": "execute_result"
    }
   ],
   "source": [
    "readout_group"
   ]
  },
  {
   "cell_type": "code",
   "execution_count": 61,
   "id": "d6b0cee1",
   "metadata": {},
   "outputs": [
    {
     "data": {
      "image/png": "[encoded data removed]",
      "text/plain": [
       "<Figure size 720x432 with 6 Axes>"
      ]
     },
     "metadata": {
      "needs_background": "light"
     },
     "output_type": "display_data"
    }
   ],
   "source": [
    "importlib.reload(qa)\n",
    "\n",
    "cm = qa.cluster_map(np.transpose(Rho), read_names,param_names, \n",
    "                  (10,6),cmap ='RdBu',\n",
    "                  annot=np.transpose(sig_txt),\n",
    "                  row_colors = readout_group,\n",
    "                  col_colors = param_group,col_cluster=False, row_cluster=False,\n",
    "                  show_dendrogram = [True, True])\n",
    "cm.ax_row_colors.set_yticklabels(col_colors)\n",
    "cm.ax_row_colors.yaxis.set_tick_params(size=0) # make tick marks invisible\n",
    "\n",
    "cm.ax_col_colors.set_xticklabels(row_colors)\n",
    "cm.savefig('heat.png',format='png', dpi=600,bbox_inches='tight')"
   ]
  },
  {
   "cell_type": "code",
   "execution_count": 29,
   "id": "b58608c8",
   "metadata": {},
   "outputs": [
    {
     "data": {
      "text/plain": [
       "['Kd_PD1_PDL1',\n",
       " 'K_C1_PDLX_Teff_PD1',\n",
       " 'Kd_PD1_PDL2',\n",
       " 'mutatinoal burden',\n",
       " 'Antigen',\n",
       " 'k_Teff_transmig',\n",
       " 'k_Treg_transmig',\n",
       " 'k_Teff_inhibBy_Treg',\n",
       " 'Tumor_diameter_change']"
      ]
     },
     "execution_count": 29,
     "metadata": {},
     "output_type": "execute_result"
    }
   ],
   "source": [
    "read_names"
   ]
  },
  {
   "cell_type": "code",
   "execution_count": null,
   "id": "c2ead627",
   "metadata": {},
   "outputs": [],
   "source": []
  }
 ],
 "metadata": {
  "kernelspec": {
   "display_name": "Python 3 (ipykernel)",
   "language": "python",
   "name": "python3"
  },
  "language_info": {
   "codemirror_mode": {
    "name": "ipython",
    "version": 3
   },
   "file_extension": ".py",
   "mimetype": "text/x-python",
   "name": "python",
   "nbconvert_exporter": "python",
   "pygments_lexer": "ipython3",
   "version": "3.9.10"
  }
 },
 "nbformat": 4,
 "nbformat_minor": 5
}
