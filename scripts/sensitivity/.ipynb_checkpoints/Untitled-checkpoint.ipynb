{
 "cells": [
  {
   "cell_type": "code",
   "execution_count": 5,
   "id": "25bd3b56",
   "metadata": {},
   "outputs": [
    {
     "data": {
      "image/png": "[encoded data removed]",
      "text/plain": [
       "<Figure size 360x432 with 6 Axes>"
      ]
     },
     "metadata": {
      "needs_background": "light"
     },
     "output_type": "display_data"
    }
   ],
   "source": [
    "# -*- coding: utf-8 -*-\n",
    "\"\"\"\n",
    "Created on Wed Feb 26 00:37:40 2020\n",
    "\n",
    "Analyzing PRCC results\n",
    "\n",
    "@author: Chang\n",
    "\"\"\"\n",
    "from pathlib import Path\n",
    "import sys\n",
    "import importlib\n",
    "import matplotlib.pyplot as plt\n",
    "\n",
    "# import PRCC function\n",
    "path_analysis = Path('D:/Research/Source/Repo/PopelServer/scripts/Python/analysis')\n",
    "sys.path.append(str(path_analysis))\n",
    "import PRCC as prcc\n",
    "import QSP_analysis as qa\n",
    "\n",
    "#%%\n",
    "import numpy as np\n",
    "from pyDOE2 import lhs\n",
    "# generate data\n",
    "\n",
    "num_samples = 400\n",
    "num_param = 20\n",
    "num_readout = 5\n",
    "\n",
    "param_names = ['param_{}'.format(x) for x in range(num_param)]\n",
    "read_names = ['readout_{}'.format(x) for x in range(num_readout)]\n",
    "lhd = lhs(num_param, samples=num_samples)\n",
    "readout = np.random.rand(num_samples, num_readout)\n",
    "\n",
    "readout[:,2] = lhd[:,4] + readout[:,2]/10\n",
    "readout[:,4] = -lhd[:,10]/2 + readout[:,4]\n",
    "readout[:,3] = -lhd[:,9] + lhd[:,8]/5 + readout[:,3]\n",
    "#%% PRCC\n",
    "\n",
    "Rho, Pval, Sig, Pval_correct = prcc.partial_corr(lhd, readout, 1e-3,Type = 'Spearman', MTC='Bonferroni')\n",
    "#%%\n",
    "sig_txt = np.zeros((num_param, num_readout), dtype='U8')\n",
    "sig_txt[Pval_correct<5e-2] = '*'\n",
    "sig_txt[Pval_correct<1e-6] = '**'\n",
    "sig_txt[Pval_correct<1e-9] = '***'\n",
    "\n",
    "param_group = [\"beige\"]*5 + [\"khaki\"]*(num_param-5)\n",
    "readout_group = [\"#B4B4FF\"]*2 + [\"#E6E6FF\"] + [\"mediumslateblue\"]*(num_readout-3)\n",
    "\n",
    "#%%\n",
    "importlib.reload(qa)\n",
    "cm = qa.cluster_map(Rho, param_names, read_names, \n",
    "                 (5,6), cmap=\"Reds\",\n",
    "                 annot=sig_txt,\n",
    "                 row_colors = param_group,\n",
    "                 col_colors = readout_group,\n",
    "                 show_dendrogram = [False, False])\n"
   ]
  },
  {
   "cell_type": "code",
   "execution_count": null,
   "id": "a0787ec0",
   "metadata": {},
   "outputs": [],
   "source": []
  }
 ],
 "metadata": {
  "kernelspec": {
   "display_name": "Python 3 (ipykernel)",
   "language": "python",
   "name": "python3"
  },
  "language_info": {
   "codemirror_mode": {
    "name": "ipython",
    "version": 3
   },
   "file_extension": ".py",
   "mimetype": "text/x-python",
   "name": "python",
   "nbconvert_exporter": "python",
   "pygments_lexer": "ipython3",
   "version": "3.9.10"
  }
 },
 "nbformat": 4,
 "nbformat_minor": 5
}
